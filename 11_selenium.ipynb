{
 "cells": [
  {
   "cell_type": "markdown",
   "id": "6cfa9672-f11b-47cf-a836-87dccdeea35f",
   "metadata": {},
   "source": [
    "### Selenium ###\n",
    "-브라우저의 자동화를 목적으로 지원하는 라이브러리\n",
    "\n",
    "-브라우저를 파이썬 코드로 컨트롤해서 정보 수집"
   ]
  },
  {
   "cell_type": "markdown",
   "id": "9775be80-df80-4147-90a5-07ddec6250e9",
   "metadata": {},
   "source": [
    "### 크롤링 방법\n",
    "-browser - python\n",
    "\n",
    "-환경설정\n",
    "\n",
    "(1) 크롬브라우저 드라이버 다운로드(크롬브라우져와 같은버젼)\n",
    "\n",
    "(2) Selenium 패키지 설치"
   ]
  },
  {
   "cell_type": "code",
   "execution_count": 1,
   "id": "be7ce3b3-a280-4a6b-bae9-b3f665e66559",
   "metadata": {},
   "outputs": [
    {
     "name": "stdout",
     "output_type": "stream",
     "text": [
      "Collecting selenium\n",
      "  Downloading selenium-4.3.0-py3-none-any.whl (981 kB)\n",
      "Collecting trio-websocket~=0.9\n",
      "  Downloading trio_websocket-0.9.2-py3-none-any.whl (16 kB)\n",
      "Collecting trio~=0.17\n",
      "  Downloading trio-0.21.0-py3-none-any.whl (358 kB)\n",
      "Requirement already satisfied: urllib3[secure,socks]~=1.26 in c:\\users\\user\\anaconda3\\lib\\site-packages (from selenium) (1.26.4)\n",
      "Collecting outcome\n",
      "  Downloading outcome-1.2.0-py2.py3-none-any.whl (9.7 kB)\n",
      "Requirement already satisfied: sniffio in c:\\users\\user\\anaconda3\\lib\\site-packages (from trio~=0.17->selenium) (1.2.0)\n",
      "Requirement already satisfied: idna in c:\\users\\user\\anaconda3\\lib\\site-packages (from trio~=0.17->selenium) (2.10)\n",
      "Requirement already satisfied: attrs>=19.2.0 in c:\\users\\user\\anaconda3\\lib\\site-packages (from trio~=0.17->selenium) (20.3.0)\n",
      "Requirement already satisfied: cffi>=1.14 in c:\\users\\user\\anaconda3\\lib\\site-packages (from trio~=0.17->selenium) (1.14.5)\n",
      "Requirement already satisfied: async-generator>=1.9 in c:\\users\\user\\anaconda3\\lib\\site-packages (from trio~=0.17->selenium) (1.10)\n",
      "Requirement already satisfied: sortedcontainers in c:\\users\\user\\anaconda3\\lib\\site-packages (from trio~=0.17->selenium) (2.3.0)\n",
      "Requirement already satisfied: pycparser in c:\\users\\user\\anaconda3\\lib\\site-packages (from cffi>=1.14->trio~=0.17->selenium) (2.20)\n",
      "Collecting wsproto>=0.14\n",
      "  Downloading wsproto-1.1.0-py3-none-any.whl (24 kB)\n",
      "Requirement already satisfied: cryptography>=1.3.4 in c:\\users\\user\\anaconda3\\lib\\site-packages (from urllib3[secure,socks]~=1.26->selenium) (3.4.7)\n",
      "Requirement already satisfied: pyOpenSSL>=0.14 in c:\\users\\user\\anaconda3\\lib\\site-packages (from urllib3[secure,socks]~=1.26->selenium) (20.0.1)\n",
      "Requirement already satisfied: certifi in c:\\users\\user\\anaconda3\\lib\\site-packages (from urllib3[secure,socks]~=1.26->selenium) (2020.12.5)\n",
      "Requirement already satisfied: PySocks!=1.5.7,<2.0,>=1.5.6 in c:\\users\\user\\anaconda3\\lib\\site-packages (from urllib3[secure,socks]~=1.26->selenium) (1.7.1)\n",
      "Requirement already satisfied: six>=1.5.2 in c:\\users\\user\\anaconda3\\lib\\site-packages (from pyOpenSSL>=0.14->urllib3[secure,socks]~=1.26->selenium) (1.15.0)\n",
      "Collecting h11<1,>=0.9.0\n",
      "  Downloading h11-0.13.0-py3-none-any.whl (58 kB)\n",
      "Installing collected packages: outcome, h11, wsproto, trio, trio-websocket, selenium\n",
      "Successfully installed h11-0.13.0 outcome-1.2.0 selenium-4.3.0 trio-0.21.0 trio-websocket-0.9.2 wsproto-1.1.0\n"
     ]
    }
   ],
   "source": [
    "!pip3 install selenium"
   ]
  },
  {
   "cell_type": "code",
   "execution_count": 2,
   "id": "43a89ff2-0aef-476e-a534-12537ff44826",
   "metadata": {},
   "outputs": [],
   "source": [
    "from selenium import webdriver\n",
    "from selenium.webdriver.common.by import By"
   ]
  },
  {
   "cell_type": "code",
   "execution_count": 16,
   "id": "68f02fd4-59b5-419e-939b-9ae103b112de",
   "metadata": {},
   "outputs": [],
   "source": [
    "# 1. 브라우저 띄우기\n",
    "driver = webdriver.Chrome()\n",
    "driver.get(\"https://daum.net\")\n",
    "driver.set_window_size(800,600)\n",
    "driver.execute_script(\"window.scrollTo(200,300)\")\n",
    "driver.execute_script(\"alert('Hello_Selenium')\")\n",
    "\n",
    "alert = driver.switch_to.alert\n",
    "alert.accept()"
   ]
  },
  {
   "cell_type": "code",
   "execution_count": 17,
   "id": "98f557d4-7c59-4c6f-844d-47e8a7730adf",
   "metadata": {},
   "outputs": [],
   "source": [
    "# 2. 다음 검색창에 자동 파이썬 입력후 검색\n",
    "driver.find_element(By.CSS_SELECTOR, \"#q\").send_keys(\"파이썬\")\n",
    "driver.find_element(By.CSS_SELECTOR, \".inner_search > .ico_pctop.btn_search\").click()"
   ]
  },
  {
   "cell_type": "code",
   "execution_count": 18,
   "id": "aac6ef7e-b91a-4bc8-a8fb-fe94724a6e8c",
   "metadata": {},
   "outputs": [],
   "source": [
    "# 3. 브라우져 종료\n",
    "driver.quit()"
   ]
  },
  {
   "cell_type": "code",
   "execution_count": 20,
   "id": "dc4b1e3b-8eda-4ac1-942b-223ac56fe1f8",
   "metadata": {},
   "outputs": [
    {
     "data": {
      "text/html": [
       "<div>\n",
       "<style scoped>\n",
       "    .dataframe tbody tr th:only-of-type {\n",
       "        vertical-align: middle;\n",
       "    }\n",
       "\n",
       "    .dataframe tbody tr th {\n",
       "        vertical-align: top;\n",
       "    }\n",
       "\n",
       "    .dataframe thead th {\n",
       "        text-align: right;\n",
       "    }\n",
       "</style>\n",
       "<table border=\"1\" class=\"dataframe\">\n",
       "  <thead>\n",
       "    <tr style=\"text-align: right;\">\n",
       "      <th></th>\n",
       "      <th>name</th>\n",
       "      <th>gf</th>\n",
       "      <th>ga</th>\n",
       "      <th>points</th>\n",
       "    </tr>\n",
       "  </thead>\n",
       "  <tbody>\n",
       "    <tr>\n",
       "      <th>0</th>\n",
       "      <td>Manchester City</td>\n",
       "      <td>106</td>\n",
       "      <td>27</td>\n",
       "      <td>100</td>\n",
       "    </tr>\n",
       "    <tr>\n",
       "      <th>1</th>\n",
       "      <td>Manchester United</td>\n",
       "      <td>68</td>\n",
       "      <td>28</td>\n",
       "      <td>81</td>\n",
       "    </tr>\n",
       "    <tr>\n",
       "      <th>2</th>\n",
       "      <td>Tottenham Hotspur</td>\n",
       "      <td>74</td>\n",
       "      <td>36</td>\n",
       "      <td>77</td>\n",
       "    </tr>\n",
       "  </tbody>\n",
       "</table>\n",
       "</div>"
      ],
      "text/plain": [
       "                name   gf  ga  points\n",
       "0    Manchester City  106  27     100\n",
       "1  Manchester United   68  28      81\n",
       "2  Tottenham Hotspur   74  36      77"
      ]
     },
     "execution_count": 20,
     "metadata": {},
     "output_type": "execute_result"
    }
   ],
   "source": [
    "df = pd.read_csv('premierleague.csv')\n",
    "df.head(3)"
   ]
  },
  {
   "cell_type": "code",
   "execution_count": 21,
   "id": "f09edff6-dacc-4610-ad3b-4a69412888cb",
   "metadata": {},
   "outputs": [],
   "source": [
    "feature = df[['gf', 'ga']]\n",
    "target = df['points']\n",
    "\n",
    "from sklearn.linear_model import LinearRegression\n",
    "\n",
    "model = LinearRegression().fit(feature, target)"
   ]
  },
  {
   "cell_type": "code",
   "execution_count": 24,
   "id": "9fca9ffc-b10d-47cf-8042-66eb2b635b89",
   "metadata": {},
   "outputs": [
    {
     "data": {
      "text/plain": [
       "array([79.])"
      ]
     },
     "execution_count": 24,
     "metadata": {},
     "output_type": "execute_result"
    }
   ],
   "source": [
    "# 데이터 예측 (득점)\n",
    "np.round(model.predict([[80, 36]]))"
   ]
  },
  {
   "cell_type": "code",
   "execution_count": 25,
   "id": "9b4d9756-604e-4641-9d6e-b488cd93240e",
   "metadata": {},
   "outputs": [],
   "source": [
    "import warnings\n",
    "\n",
    "warnings.filterwarnings(\"ignore\")"
   ]
  },
  {
   "cell_type": "code",
   "execution_count": 26,
   "id": "08ad8c4d-3ed0-47cf-8729-35f999defb2e",
   "metadata": {},
   "outputs": [],
   "source": [
    "# 학습내용 저장법\n",
    "import pickle\n",
    "with open(\"model.pkl\", \"wb\") as file:\n",
    "    pickle.dump(model, file)"
   ]
  },
  {
   "cell_type": "code",
   "execution_count": 28,
   "id": "3af46686-ab0b-4569-83e8-5f277d0073fc",
   "metadata": {},
   "outputs": [
    {
     "data": {
      "text/plain": [
       "array([79.])"
      ]
     },
     "execution_count": 28,
     "metadata": {},
     "output_type": "execute_result"
    }
   ],
   "source": [
    "with open(\"model.pkl\", \"rb\") as file:\n",
    "    load_model = pickle.load(file)\n",
    "np.round(load_model.predict([[80, 36]]))"
   ]
  },
  {
   "cell_type": "markdown",
   "id": "79cfcb7a-ad32-4482-92e7-8944a50837f8",
   "metadata": {},
   "source": [
    "### 테드 사이트 데이터 수집 ###\n",
    "# https://www.ted.com/talks"
   ]
  },
  {
   "cell_type": "code",
   "execution_count": 46,
   "id": "03be43a3-1eab-4443-a0b1-1903aa0b5068",
   "metadata": {},
   "outputs": [],
   "source": [
    "# 1. 브라우저 열기\n",
    "driver = webdriver.Chrome()"
   ]
  },
  {
   "cell_type": "code",
   "execution_count": 47,
   "id": "a9970a99-1d78-4761-bb28-8dd7607ec00e",
   "metadata": {},
   "outputs": [],
   "source": [
    "# 2. 페이지 이동\n",
    "driver.get('https://www.ted.com/talks')"
   ]
  },
  {
   "cell_type": "code",
   "execution_count": 48,
   "id": "4f24db75-9ef8-43ea-9b49-4dd16f7391da",
   "metadata": {},
   "outputs": [
    {
     "data": {
      "text/plain": [
       "'Join TED Recommends to get the best ideas, selected just for you'"
      ]
     },
     "execution_count": 48,
     "metadata": {},
     "output_type": "execute_result"
    }
   ],
   "source": [
    "# 3. 제목 데이터 수집\n",
    "subtitle = driver.find_element(By.CSS_SELECTOR, '#banner-secondary').text\n",
    "subtitle"
   ]
  },
  {
   "cell_type": "code",
   "execution_count": 55,
   "id": "958d2b61-4b7f-4c17-a84a-f59d6d207063",
   "metadata": {},
   "outputs": [],
   "source": [
    "# 4. SelectBox에서 한국어 선택\n",
    "# Languages\n",
    "# lang=\"ko\"\n",
    "driver.find_element(By.CSS_SELECTOR, '#languages [lang=\"ko\"]').click()"
   ]
  },
  {
   "cell_type": "code",
   "execution_count": 57,
   "id": "21601171-bff6-4e0a-a8eb-b3f239b0ead6",
   "metadata": {},
   "outputs": [
    {
     "data": {
      "text/plain": [
       "36"
      ]
     },
     "execution_count": 57,
     "metadata": {},
     "output_type": "execute_result"
    }
   ],
   "source": [
    "# 5. 제목/ 데이터 수집\n",
    "elements = driver.find_elements(By.CSS_SELECTOR, \"#browse-results > .row > div\")\n",
    "len(elements)"
   ]
  },
  {
   "cell_type": "code",
   "execution_count": 58,
   "id": "9eb75700-5fd4-4a9d-ae0b-2e11f9999223",
   "metadata": {},
   "outputs": [
    {
     "data": {
      "text/plain": [
       "('스페인어의 역사 - 일란 스타반스(Ilan Stavans)',\n",
       " 'https://www.ted.com/talks/ilan_stavans_a_brief_history_of_spanish?language=ko')"
      ]
     },
     "execution_count": 58,
     "metadata": {},
     "output_type": "execute_result"
    }
   ],
   "source": [
    "element = elements[0]\n",
    "title = element.find_element(By.CSS_SELECTOR, \"h4 > .ga-link\").text\n",
    "link = element.find_element(By.CSS_SELECTOR, \"h4 > .ga-link\").get_attribute(\"href\")\n",
    "title, link"
   ]
  },
  {
   "cell_type": "code",
   "execution_count": 59,
   "id": "d355fb98-8938-4df5-9cff-5b3ac9ff089c",
   "metadata": {},
   "outputs": [
    {
     "data": {
      "text/html": [
       "<div>\n",
       "<style scoped>\n",
       "    .dataframe tbody tr th:only-of-type {\n",
       "        vertical-align: middle;\n",
       "    }\n",
       "\n",
       "    .dataframe tbody tr th {\n",
       "        vertical-align: top;\n",
       "    }\n",
       "\n",
       "    .dataframe thead th {\n",
       "        text-align: right;\n",
       "    }\n",
       "</style>\n",
       "<table border=\"1\" class=\"dataframe\">\n",
       "  <thead>\n",
       "    <tr style=\"text-align: right;\">\n",
       "      <th></th>\n",
       "      <th>title</th>\n",
       "      <th>link</th>\n",
       "    </tr>\n",
       "  </thead>\n",
       "  <tbody>\n",
       "    <tr>\n",
       "      <th>34</th>\n",
       "      <td>두려움을 극복하기 위한 올림픽 챔피언의 사고방식</td>\n",
       "      <td>https://www.ted.com/talks/allyson_felix_an_oly...</td>\n",
       "    </tr>\n",
       "    <tr>\n",
       "      <th>35</th>\n",
       "      <td>바퀴벌레를 없애는 것은 왜 이렇게 어려울까요? - 아메야 곤달레카르</td>\n",
       "      <td>https://www.ted.com/talks/ameya_gondhalekar_wh...</td>\n",
       "    </tr>\n",
       "  </tbody>\n",
       "</table>\n",
       "</div>"
      ],
      "text/plain": [
       "                                    title  \\\n",
       "34             두려움을 극복하기 위한 올림픽 챔피언의 사고방식   \n",
       "35  바퀴벌레를 없애는 것은 왜 이렇게 어려울까요? - 아메야 곤달레카르   \n",
       "\n",
       "                                                 link  \n",
       "34  https://www.ted.com/talks/allyson_felix_an_oly...  \n",
       "35  https://www.ted.com/talks/ameya_gondhalekar_wh...  "
      ]
     },
     "execution_count": 59,
     "metadata": {},
     "output_type": "execute_result"
    }
   ],
   "source": [
    "# 6. 데이터 프레임 만들기\n",
    "data = []\n",
    "for element in elements:\n",
    "    data.append({\n",
    "        \"title\": element.find_element(By.CSS_SELECTOR, \"h4 > .ga-link\").text,\n",
    "        \"link\": element.find_element(By.CSS_SELECTOR, \"h4 > .ga-link\").get_attribute(\"href\"),\n",
    "    })\n",
    "df = pd.DataFrame(data)\n",
    "df.tail(2)"
   ]
  },
  {
   "cell_type": "markdown",
   "id": "6a69b958-ea91-4f1d-a964-95ce1330c69c",
   "metadata": {},
   "source": [
    "### Headless ###\n",
    "- 브라우저를 띄우지않고 메모리를 활용한 브라우져 크롤링방법\n",
    "\n",
    "- 창이 지원되지않는 상태에서 Selenium 실행가능\n",
    "\n",
    "- 크롬 60버젼이상 가능\n",
    "\n",
    "- 서버에서는 Headless를 써야함"
   ]
  },
  {
   "cell_type": "code",
   "execution_count": 60,
   "id": "b38f0ec6-21c5-4c57-9629-acbf595c1232",
   "metadata": {},
   "outputs": [
    {
     "data": {
      "text/plain": [
       "'104.0.5112.80'"
      ]
     },
     "execution_count": 60,
     "metadata": {},
     "output_type": "execute_result"
    }
   ],
   "source": [
    "driver = webdriver.Chrome()\n",
    "version = driver.capabilities['browserVersion']\n",
    "driver.quit()\n",
    "version"
   ]
  },
  {
   "cell_type": "code",
   "execution_count": 63,
   "id": "233ddf37-bcaa-4674-8020-63b6ff2c196e",
   "metadata": {},
   "outputs": [
    {
     "data": {
      "text/plain": [
       "'Join TED Recommends to get the best ideas, selected just for you'"
      ]
     },
     "execution_count": 63,
     "metadata": {},
     "output_type": "execute_result"
    }
   ],
   "source": [
    "options = webdriver.ChromeOptions()\n",
    "options.add_argument('headless')\n",
    "\n",
    "driver = webdriver.Chrome(options=options)\n",
    "driver.get('https://www.ted.com/talks')\n",
    "subtitle = driver.find_element(By.CSS_SELECTOR, '#banner-secondary').text\n",
    "driver.quit()\n",
    "subtitle"
   ]
  },
  {
   "cell_type": "code",
   "execution_count": null,
   "id": "10981783-8c48-40d7-9a99-cee940f22ac6",
   "metadata": {},
   "outputs": [],
   "source": []
  }
 ],
 "metadata": {
  "kernelspec": {
   "display_name": "Python 3",
   "language": "python",
   "name": "python3"
  },
  "language_info": {
   "codemirror_mode": {
    "name": "ipython",
    "version": 3
   },
   "file_extension": ".py",
   "mimetype": "text/x-python",
   "name": "python",
   "nbconvert_exporter": "python",
   "pygments_lexer": "ipython3",
   "version": "3.8.8"
  }
 },
 "nbformat": 4,
 "nbformat_minor": 5
}
