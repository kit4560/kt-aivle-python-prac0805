{
 "cells": [
  {
   "cell_type": "markdown",
   "id": "d9848a99-7d03-4fc6-9835-ae4855323de3",
   "metadata": {},
   "source": [
    "### 네이버 중고나라 데이터 수집 ###\n",
    "\n",
    "- Selenium 으로 iframe수집"
   ]
  },
  {
   "cell_type": "code",
   "execution_count": 9,
   "id": "2f83367a-f959-4dd2-bae2-41522e38f879",
   "metadata": {},
   "outputs": [],
   "source": [
    "from selenium import webdriver\n",
    "from selenium.webdriver.common.by import By"
   ]
  },
  {
   "cell_type": "code",
   "execution_count": 10,
   "id": "548ca43d-4787-4acc-899d-78ce75c3b04d",
   "metadata": {},
   "outputs": [],
   "source": [
    "url = 'https://cafe.naver.com/joonggonara.cafe'"
   ]
  },
  {
   "cell_type": "code",
   "execution_count": 11,
   "id": "e993d52d-8550-4938-bd40-3697f49bb62c",
   "metadata": {},
   "outputs": [],
   "source": [
    "# 1. 웹브라우져 열기 및 페이지 이동\n",
    "driver = webdriver.Chrome()\n",
    "driver.get(url)"
   ]
  },
  {
   "cell_type": "code",
   "execution_count": null,
   "id": "1c983dff-b480-4528-b80d-f114f85883d2",
   "metadata": {},
   "outputs": [],
   "source": [
    "import time\n",
    "time.sleep(3)"
   ]
  },
  {
   "cell_type": "code",
   "execution_count": 12,
   "id": "5053d376-c0c2-4a62-93e9-4a9bdabbafd5",
   "metadata": {},
   "outputs": [],
   "source": [
    "# 2. 검색창에 검색어 입력\n",
    "keyword = '맥북'\n",
    "# id=\"topLayerQueryInput\"\n",
    "driver.find_element(By.CSS_SELECTOR, \"#topLayerQueryInput\").send_keys(keyword)\n",
    "# onclick=\"searchBoard();return false;\n",
    "driver.execute_script('searchBoard();')"
   ]
  },
  {
   "cell_type": "code",
   "execution_count": 18,
   "id": "cae1f52b-5332-4514-b2e0-1eb2ce63746a",
   "metadata": {},
   "outputs": [
    {
     "data": {
      "text/plain": [
       "[<selenium.webdriver.remote.webelement.WebElement (session=\"aa837d3395b7edf3c9ac30b96f85d18e\", element=\"7b7a7980-cbc9-4f09-96ac-69791052e90f\")>,\n",
       " <selenium.webdriver.remote.webelement.WebElement (session=\"aa837d3395b7edf3c9ac30b96f85d18e\", element=\"1c6177da-acf9-47c2-be9d-24e5c811ced7\")>,\n",
       " <selenium.webdriver.remote.webelement.WebElement (session=\"aa837d3395b7edf3c9ac30b96f85d18e\", element=\"215afdee-2e2e-42d8-8e22-73c697ffbc53\")>,\n",
       " <selenium.webdriver.remote.webelement.WebElement (session=\"aa837d3395b7edf3c9ac30b96f85d18e\", element=\"0906c44c-1aca-4a52-854a-1495242a24b6\")>,\n",
       " <selenium.webdriver.remote.webelement.WebElement (session=\"aa837d3395b7edf3c9ac30b96f85d18e\", element=\"f15c160b-b0a5-4e71-a932-a99b838fcea6\")>,\n",
       " <selenium.webdriver.remote.webelement.WebElement (session=\"aa837d3395b7edf3c9ac30b96f85d18e\", element=\"fdb09f49-5140-4395-a8de-e375b32a9e8e\")>,\n",
       " <selenium.webdriver.remote.webelement.WebElement (session=\"aa837d3395b7edf3c9ac30b96f85d18e\", element=\"98bac009-ee0c-4e31-8e3e-939ef40f1b1d\")>,\n",
       " <selenium.webdriver.remote.webelement.WebElement (session=\"aa837d3395b7edf3c9ac30b96f85d18e\", element=\"a5de4b71-c6b3-404f-b280-61654f60fc00\")>,\n",
       " <selenium.webdriver.remote.webelement.WebElement (session=\"aa837d3395b7edf3c9ac30b96f85d18e\", element=\"a2fe6af7-83e8-4907-b018-49670e13d861\")>,\n",
       " <selenium.webdriver.remote.webelement.WebElement (session=\"aa837d3395b7edf3c9ac30b96f85d18e\", element=\"4196972d-f261-4d42-a365-0852635b9f89\")>,\n",
       " <selenium.webdriver.remote.webelement.WebElement (session=\"aa837d3395b7edf3c9ac30b96f85d18e\", element=\"8874f3ca-f16b-4282-9332-41ebeb33ddba\")>,\n",
       " <selenium.webdriver.remote.webelement.WebElement (session=\"aa837d3395b7edf3c9ac30b96f85d18e\", element=\"a89cddc0-6cd1-43a8-aaad-3380dfdc6f19\")>,\n",
       " <selenium.webdriver.remote.webelement.WebElement (session=\"aa837d3395b7edf3c9ac30b96f85d18e\", element=\"c679651b-aecd-4459-a5f2-e338473706de\")>,\n",
       " <selenium.webdriver.remote.webelement.WebElement (session=\"aa837d3395b7edf3c9ac30b96f85d18e\", element=\"42e861fe-40b6-47bb-a7f0-57cdabad9aec\")>,\n",
       " <selenium.webdriver.remote.webelement.WebElement (session=\"aa837d3395b7edf3c9ac30b96f85d18e\", element=\"317158e0-3b34-4885-91f3-d1d467c0ba68\")>]"
      ]
     },
     "execution_count": 18,
     "metadata": {},
     "output_type": "execute_result"
    }
   ],
   "source": [
    "# 3. 게시글 목록 수집\n",
    "iframe = driver.find_element(By.CSS_SELECTOR, \"#cafe_main\")\n",
    "# iframe\n",
    "\n",
    "driver.switch_to.frame(iframe)\n",
    "\n",
    "selector = '.article-board > table > tbody > tr'\n",
    "elements = driver.find_elements(By.CSS_SELECTOR, selector)\n",
    "\n",
    "elements"
   ]
  },
  {
   "cell_type": "code",
   "execution_count": 22,
   "id": "6725ba1b-4d60-45cc-b4c7-0b61f8d2551a",
   "metadata": {},
   "outputs": [
    {
     "name": "stdout",
     "output_type": "stream",
     "text": [
      "14인치 M1PRO M1MAX 엠원프로 엠원맥스 맥북프로 애플노트북 topontopcom\n"
     ]
    }
   ],
   "source": [
    "element = elements[0]\n",
    "title = element.find_element(By.CSS_SELECTOR, \".article\").text\n",
    "writer = element.find_element(By.CSS_SELECTOR, '.p-nick').text\n",
    "\n",
    "print(title, writer)"
   ]
  },
  {
   "cell_type": "code",
   "execution_count": 24,
   "id": "b72ef56b-cf72-443c-96a5-15e0e8ce6873",
   "metadata": {},
   "outputs": [
    {
     "data": {
      "text/plain": [
       "[{'title': '14인치 M1PRO M1MAX 엠원프로 엠원맥스 맥북프로 애플노트북', 'writer': 'topontopcom'},\n",
       " {'title': '[매입]고장난 맥북, 노트북, 컴퓨터 선입매입(개인.기업 대량매입)', 'writer': '다사요컴닥터'},\n",
       " {'title': '[판매]맥북프로 2019 13인치 i5/8GB/256GB 풀박스', 'writer': '리퍼노트북'},\n",
       " {'title': '[미개봉/새제품] 맥북 프로 max 16인치 고급형 CTO 모델 판매 합니다.', 'writer': '하진아ㅂ'},\n",
       " {'title': '2021 맥북프로 14인치 m1 엠원 pro max CTO S급판매', 'writer': 'FRANKCOM'},\n",
       " {'title': '[매입] 삼성플렉스북이온 LG그램 오딧세이 맥북 24시간 총알출장매입',\n",
       "  'writer': '다사요24 01058355451'},\n",
       " {'title': '2013 맥북 에어 미드 CTO 팝니다', 'writer': 'ㅎㅎ'},\n",
       " {'title': '[미개봉] 맥북 m1 pro 16 32ram 512ssd', 'writer': '폭격융단'},\n",
       " {'title': '[매입]고장난 맥북, 노트북, 컴퓨터 선입매입(개인.기업 대량매입)', 'writer': '다사요컴닥터'},\n",
       " {'title': '엠원프로 엠원맥스 M1PRO M1MAX 애플 맥북프로 16인치판매', 'writer': 'topontopcom'},\n",
       " {'title': '애플 맥북 프로 2013 late 13.3 인치 판매합니다.', 'writer': '아마토바'},\n",
       " {'title': '인텔 맥북프로 16인치 기본형 실버 풀박스', 'writer': 'flame4'},\n",
       " {'title': '14인치 M1PRO M1MAX 엠원프로 엠원맥스 맥북프로 2021년형', 'writer': 'FRANKCOM'},\n",
       " {'title': '2021 M1 맥북프로 16인치 스페이스그레이', 'writer': '흐루두두'},\n",
       " {'title': '맥북에어m1 16g 512 스페이스그레이+매직마우스2+파우치+거치대+독+허브 증정',\n",
       "  'writer': 'lyc891010'}]"
      ]
     },
     "execution_count": 24,
     "metadata": {},
     "output_type": "execute_result"
    }
   ],
   "source": [
    "data = []\n",
    "for element in elements:\n",
    "    data.append({\n",
    "        \"title\" : element.find_element(By.CSS_SELECTOR, \".article\").text,\n",
    "        \"writer\" : element.find_element(By.CSS_SELECTOR, '.p-nick').text\n",
    "    })\n",
    "data"
   ]
  },
  {
   "cell_type": "code",
   "execution_count": null,
   "id": "5066c055-f99b-423f-a4bd-03be2fac8fa0",
   "metadata": {},
   "outputs": [],
   "source": [
    "# 원래 frame으로 이동\n",
    "driver.switch_to.default_content()"
   ]
  },
  {
   "cell_type": "code",
   "execution_count": 25,
   "id": "761e2ac7-c714-4eb0-b812-b7f636f7c270",
   "metadata": {},
   "outputs": [],
   "source": [
    "# 4. 웹 브라우져 종료\n",
    "driver.quit()"
   ]
  },
  {
   "cell_type": "code",
   "execution_count": null,
   "id": "58e9297c-c6a4-4a02-a3ad-3e8dd8e87d10",
   "metadata": {},
   "outputs": [],
   "source": []
  }
 ],
 "metadata": {
  "kernelspec": {
   "display_name": "Python 3",
   "language": "python",
   "name": "python3"
  },
  "language_info": {
   "codemirror_mode": {
    "name": "ipython",
    "version": 3
   },
   "file_extension": ".py",
   "mimetype": "text/x-python",
   "name": "python",
   "nbconvert_exporter": "python",
   "pygments_lexer": "ipython3",
   "version": "3.8.8"
  }
 },
 "nbformat": 4,
 "nbformat_minor": 5
}
