{
 "cells": [
  {
   "cell_type": "markdown",
   "id": "54faec60-14ab-4f0a-a64e-2f09e888f9d9",
   "metadata": {},
   "source": [
    "### scrapy"
   ]
  },
  {
   "cell_type": "code",
   "execution_count": 4,
   "id": "130d1602-e45a-4464-9ddd-8f7b42f184bf",
   "metadata": {},
   "outputs": [],
   "source": [
    "import scrapy\n",
    "import requests\n",
    "from scrapy.http import TextResponse"
   ]
  },
  {
   "cell_type": "markdown",
   "id": "da978671-2122-4ca6-9a5f-95b56f93c831",
   "metadata": {},
   "source": [
    "- gmarket best 200데이터 수집"
   ]
  },
  {
   "cell_type": "code",
   "execution_count": null,
   "id": "f7e300b4-b075-4ba3-aaf7-9e797b93a191",
   "metadata": {},
   "outputs": [],
   "source": [
    "# 1. scrapy 프로젝트 생성"
   ]
  },
  {
   "cell_type": "code",
   "execution_count": 1,
   "id": "cfbd7453-cd29-4b56-a9c6-6265785d42d0",
   "metadata": {},
   "outputs": [
    {
     "name": "stdout",
     "output_type": "stream",
     "text": [
      "New Scrapy project 'gmarket', using template directory 'c:\\users\\user\\anaconda3\\lib\\site-packages\\scrapy\\templates\\project', created in:\n",
      "    C:\\Users\\User\\day1-20220803T002955Z-001\\code\\gmarket\n",
      "\n",
      "You can start your first spider with:\n",
      "    cd gmarket\n",
      "    scrapy genspider example example.com\n"
     ]
    }
   ],
   "source": [
    "!scrapy startproject gmarket"
   ]
  },
  {
   "cell_type": "code",
   "execution_count": 2,
   "id": "0e06e8fe-e713-48b1-b983-a84abb8d4e37",
   "metadata": {},
   "outputs": [
    {
     "name": "stdout",
     "output_type": "stream",
     "text": [
      "폴더 PATH의 목록입니다.\n",
      "볼륨 일련 번호가 00000005 7C6C:FC35입니다.\n",
      "C:\\USERS\\USER\\DAY1-20220803T002955Z-001\\CODE\\GMARKET\n",
      "│  scrapy.cfg\n",
      "│  \n",
      "└─gmarket\n",
      "    │  items.py\n",
      "    │  middlewares.py\n",
      "    │  pipelines.py\n",
      "    │  settings.py\n",
      "    │  __init__.py\n",
      "    │  \n",
      "    └─spiders\n",
      "            __init__.py\n",
      "            \n"
     ]
    }
   ],
   "source": [
    "!tree gmarket /f"
   ]
  },
  {
   "cell_type": "raw",
   "id": "99415c30-fbfa-44cc-b719-3d145a9263f8",
   "metadata": {},
   "source": [
    "items.py 데이터구조 정의\n",
    "middlewares.py headers와 같은 정보 설정\n",
    "pipelines.py 코드실행을 정의\n",
    "settings.py 크롤링 설정(시간, 텀, robots.txt에 명시된 규칙들)'\n",
    "spiders(directory) 크롤링 절차를 정의"
   ]
  },
  {
   "cell_type": "code",
   "execution_count": 10,
   "id": "e4c84b84-3cf3-490e-90c6-beb3911059c9",
   "metadata": {},
   "outputs": [
    {
     "data": {
      "text/plain": [
       "['http://item.gmarket.co.kr/Item?goodscode=2519604129&ver=637953128102552122',\n",
       " 'http://item.gmarket.co.kr/Item?goodscode=2520466046&ver=637953128102552122']"
      ]
     },
     "execution_count": 10,
     "metadata": {},
     "output_type": "execute_result"
    }
   ],
   "source": [
    "# 2. xpath 찾기\n",
    "url = 'http://corners.gmarket.co.kr/Bestsellers'\n",
    "request = requests.get(url)\n",
    "response = TextResponse(request.url, body=request.text, encoding='utf-8')\n",
    "\n",
    "# links = response.xpath('//*[@id=\"gBestWrap\"]/div/div[3]/div/ul/li[1]/div[1]/a')\n",
    "links = response.xpath('//*[@id=\"gBestWrap\"]/div/div[3]/div/ul/li/a/@href').extract()\n",
    "print(links[:2])"
   ]
  },
  {
   "cell_type": "code",
   "execution_count": 11,
   "id": "453c5d8c-e848-4a49-bb5c-5144d9dfe6bc",
   "metadata": {},
   "outputs": [
    {
     "name": "stdout",
     "output_type": "stream",
     "text": [
      "브라운 면도기 세정액 CCR5+1  25,030\n"
     ]
    }
   ],
   "source": [
    "link = links[0]\n",
    "request = requests.get(link)\n",
    "response = TextResponse(request.url, body=request.text, encoding='utf-8')\n",
    "\n",
    "title = response.xpath('//*[@id=\"itemcase_basic\"]/div/h1/text()')[0].extract()\n",
    "price = response.xpath('//*[@id=\"itemcase_basic\"]/div/p/span/strong/text()')[0].extract()\n",
    "\n",
    "print(title, price)"
   ]
  },
  {
   "cell_type": "code",
   "execution_count": null,
   "id": "6106a4f4-c1fa-4f13-a83e-e046b7c3d5b2",
   "metadata": {},
   "outputs": [],
   "source": [
    "# 3. items.py 코드 작성 | model(데이터 구조) <-- 수집할 데이터의 칼럼 정의"
   ]
  },
  {
   "cell_type": "code",
   "execution_count": 17,
   "id": "bd34f1cd-ab4a-4173-960a-278f0453c42e",
   "metadata": {},
   "outputs": [
    {
     "name": "stdout",
     "output_type": "stream",
     "text": [
      "Overwriting gmarket/gmarket/items.py\n"
     ]
    }
   ],
   "source": [
    "%%writefile gmarket/gmarket/items.py\n",
    "import scrapy\n",
    "\n",
    "class GmarketItem(scrapy.Item):\n",
    "    title = scrapy.Field()\n",
    "    price = scrapy.Field()\n",
    "    link = scrapy.Field()"
   ]
  },
  {
   "cell_type": "code",
   "execution_count": null,
   "id": "99451566-d4db-4049-a01d-f79756c82dbc",
   "metadata": {},
   "outputs": [],
   "source": [
    "# 4. spider.py 코드 작성 | crawling 절차 정의"
   ]
  },
  {
   "cell_type": "code",
   "execution_count": 18,
   "id": "6d53be46-0171-407b-b4f4-6ddb2d83504d",
   "metadata": {},
   "outputs": [
    {
     "name": "stdout",
     "output_type": "stream",
     "text": [
      "Overwriting gmarket/gmarket/spiders/spider.py\n"
     ]
    }
   ],
   "source": [
    "%%writefile gmarket/gmarket/spiders/spider.py\n",
    "import scrapy\n",
    "from gmarket.items import GmarketItem\n",
    "\n",
    "class GMSpider(scrapy.Spider):\n",
    "    name = \"GMB\"\n",
    "    allow_domain = [\"gmarket.co.kr\"]\n",
    "    start_urls = [\"http://corners.gmarket.co.kr/Bestsellers\"]\n",
    "    \n",
    "    def parse(self, response):\n",
    "        links = response.xpath('//*[@id=\"gBestWrap\"]/div/div[3]/div/ul/li/a/@href').extract()\n",
    "        for link in links[:20]:\n",
    "            yield scrapy.Request(link, callback=self.parse_content)\n",
    "    \n",
    "    def parse_content(self, response):\n",
    "        item = GmarketItem()\n",
    "        item[\"title\"] = response.xpath('//*[@id=\"itemcase_basic\"]/div[1]/h1/text()')[0].extract()\n",
    "        item[\"price\"] = response.xpath('//*[@id=\"itemcase_basic\"]/div[1]/p/span/strong/text()')[0].extract()\n",
    "        item[\"link\"] = response.url\n",
    "        yield item"
   ]
  },
  {
   "cell_type": "code",
   "execution_count": null,
   "id": "0e144f4b-6e92-490c-87cc-bf7b31b917b2",
   "metadata": {},
   "outputs": [],
   "source": [
    "# 5. scrapy 프로젝트 실행"
   ]
  },
  {
   "cell_type": "code",
   "execution_count": null,
   "id": "558eb94b-3b29-4643-98f3-acb1db639255",
   "metadata": {},
   "outputs": [],
   "source": [
    "# scrapy crawl GMB -o items.csv # 터미널에서 실행해야함"
   ]
  },
  {
   "cell_type": "code",
   "execution_count": 14,
   "id": "54837a7b-aa84-410f-95d0-74c33a30a1a7",
   "metadata": {},
   "outputs": [
    {
     "data": {
      "text/plain": [
       "'C:\\\\Users\\\\User\\\\day1-20220803T002955Z-001\\\\code'"
      ]
     },
     "execution_count": 14,
     "metadata": {},
     "output_type": "execute_result"
    }
   ],
   "source": [
    "%pwd"
   ]
  },
  {
   "cell_type": "code",
   "execution_count": 19,
   "id": "333b7242-549e-4876-a443-d3f4045caa18",
   "metadata": {},
   "outputs": [
    {
     "data": {
      "text/html": [
       "<div>\n",
       "<style scoped>\n",
       "    .dataframe tbody tr th:only-of-type {\n",
       "        vertical-align: middle;\n",
       "    }\n",
       "\n",
       "    .dataframe tbody tr th {\n",
       "        vertical-align: top;\n",
       "    }\n",
       "\n",
       "    .dataframe thead th {\n",
       "        text-align: right;\n",
       "    }\n",
       "</style>\n",
       "<table border=\"1\" class=\"dataframe\">\n",
       "  <thead>\n",
       "    <tr style=\"text-align: right;\">\n",
       "      <th></th>\n",
       "      <th>link</th>\n",
       "      <th>price</th>\n",
       "      <th>title</th>\n",
       "    </tr>\n",
       "  </thead>\n",
       "  <tbody>\n",
       "    <tr>\n",
       "      <th>0</th>\n",
       "      <td>http://item.gmarket.co.kr/Item?goodscode=22474...</td>\n",
       "      <td>3,900</td>\n",
       "      <td>10%할인+사은품_책속에서 여름나기 인기도서 260종_무료배송</td>\n",
       "    </tr>\n",
       "    <tr>\n",
       "      <th>1</th>\n",
       "      <td>http://item.gmarket.co.kr/Item?goodscode=22825...</td>\n",
       "      <td>5,900</td>\n",
       "      <td>풀문 여름 시즌오프 버킷햇/레그워머/양말/왕리본/집게핀</td>\n",
       "    </tr>\n",
       "    <tr>\n",
       "      <th>2</th>\n",
       "      <td>http://item.gmarket.co.kr/Item?goodscode=12775...</td>\n",
       "      <td>7,900</td>\n",
       "      <td>무료반품 2+1 균일가 덧신양말남성여성발목중목학생</td>\n",
       "    </tr>\n",
       "    <tr>\n",
       "      <th>3</th>\n",
       "      <td>http://item.gmarket.co.kr/Item?goodscode=20396...</td>\n",
       "      <td>49,900</td>\n",
       "      <td>1+1 2개 무선 선풍기 탁상용 미니 휴대용 캠핑용 벽걸이 사무실 선물용 가정용</td>\n",
       "    </tr>\n",
       "    <tr>\n",
       "      <th>4</th>\n",
       "      <td>http://item.gmarket.co.kr/Item?goodscode=97241...</td>\n",
       "      <td>6,900</td>\n",
       "      <td>22%쿠폰/1+1 2박스외/무료반품/여성팬티/노라인/위생</td>\n",
       "    </tr>\n",
       "    <tr>\n",
       "      <th>5</th>\n",
       "      <td>http://item.gmarket.co.kr/Item?goodscode=24572...</td>\n",
       "      <td>12,000</td>\n",
       "      <td>레고 닌자고 브릭마스터 외 6종 선택구매</td>\n",
       "    </tr>\n",
       "    <tr>\n",
       "      <th>6</th>\n",
       "      <td>http://item.gmarket.co.kr/Item?goodscode=25196...</td>\n",
       "      <td>25,030</td>\n",
       "      <td>브라운 면도기 세정액 CCR5+1</td>\n",
       "    </tr>\n",
       "    <tr>\n",
       "      <th>7</th>\n",
       "      <td>http://item.gmarket.co.kr/Item?goodscode=24188...</td>\n",
       "      <td>16,830</td>\n",
       "      <td>(현대Hmall) 오늘출발  젤리스트로우 투게더팩 1254g X 2팩(총 130개 ...</td>\n",
       "    </tr>\n",
       "    <tr>\n",
       "      <th>8</th>\n",
       "      <td>http://item.gmarket.co.kr/Item?goodscode=16359...</td>\n",
       "      <td>9,900</td>\n",
       "      <td>아삭아삭 미니 오이 20개 /2개주문시 50개발송</td>\n",
       "    </tr>\n",
       "    <tr>\n",
       "      <th>9</th>\n",
       "      <td>http://item.gmarket.co.kr/Item?goodscode=20361...</td>\n",
       "      <td>10,000</td>\n",
       "      <td>무료반품 15% 할인쿠폰 마르조 오나라 단하루특가</td>\n",
       "    </tr>\n",
       "    <tr>\n",
       "      <th>10</th>\n",
       "      <td>http://item.gmarket.co.kr/Item?goodscode=23678...</td>\n",
       "      <td>17,900</td>\n",
       "      <td>군산 반건조 서대 박대구이 특대 5미 2개(쿠폰15940)</td>\n",
       "    </tr>\n",
       "    <tr>\n",
       "      <th>11</th>\n",
       "      <td>http://item.gmarket.co.kr/Item?goodscode=23495...</td>\n",
       "      <td>71,000</td>\n",
       "      <td>별똥별_NEW 야물야물 그림책 (전20권)</td>\n",
       "    </tr>\n",
       "    <tr>\n",
       "      <th>12</th>\n",
       "      <td>http://item.gmarket.co.kr/Item?goodscode=25149...</td>\n",
       "      <td>7,900</td>\n",
       "      <td>DCOVERS/디커버스/반팔티/티셔츠/여성/남자/빅사이즈</td>\n",
       "    </tr>\n",
       "    <tr>\n",
       "      <th>13</th>\n",
       "      <td>http://item.gmarket.co.kr/Item?goodscode=22664...</td>\n",
       "      <td>3,900</td>\n",
       "      <td>3900원 균일가 시즌오프 블라우스/티셔츠/원피스/팬츠 外</td>\n",
       "    </tr>\n",
       "    <tr>\n",
       "      <th>14</th>\n",
       "      <td>http://item.gmarket.co.kr/Item?goodscode=18059...</td>\n",
       "      <td>99,450</td>\n",
       "      <td>신일   화이트   에어서큘레이터(SIF-FA800B)</td>\n",
       "    </tr>\n",
       "    <tr>\n",
       "      <th>15</th>\n",
       "      <td>http://item.gmarket.co.kr/Item?goodscode=22464...</td>\n",
       "      <td>19,360</td>\n",
       "      <td>서울우유 클릭유 커피 200ml x 24입 (1박스)</td>\n",
       "    </tr>\n",
       "    <tr>\n",
       "      <th>16</th>\n",
       "      <td>http://item.gmarket.co.kr/Item?goodscode=21674...</td>\n",
       "      <td>72,000</td>\n",
       "      <td>닌자 프로페셔널 초퍼 믹서기 블렌더 NJ1001KR</td>\n",
       "    </tr>\n",
       "    <tr>\n",
       "      <th>17</th>\n",
       "      <td>http://item.gmarket.co.kr/Item?goodscode=15870...</td>\n",
       "      <td>15,900</td>\n",
       "      <td>청정우 양지 300gX3팩</td>\n",
       "    </tr>\n",
       "    <tr>\n",
       "      <th>18</th>\n",
       "      <td>http://item.gmarket.co.kr/Item?goodscode=21414...</td>\n",
       "      <td>11,500</td>\n",
       "      <td>붕어빵 아기물티슈 썸머에디션 핫한 고평량 70매 10팩 70gsm</td>\n",
       "    </tr>\n",
       "    <tr>\n",
       "      <th>19</th>\n",
       "      <td>http://item.gmarket.co.kr/Item?goodscode=25204...</td>\n",
       "      <td>28,800</td>\n",
       "      <td>(롯데백화점)남여공용 디스럽터 테이피 테잎 _ FS1HTB1091X</td>\n",
       "    </tr>\n",
       "  </tbody>\n",
       "</table>\n",
       "</div>"
      ],
      "text/plain": [
       "                                                 link   price  \\\n",
       "0   http://item.gmarket.co.kr/Item?goodscode=22474...   3,900   \n",
       "1   http://item.gmarket.co.kr/Item?goodscode=22825...   5,900   \n",
       "2   http://item.gmarket.co.kr/Item?goodscode=12775...   7,900   \n",
       "3   http://item.gmarket.co.kr/Item?goodscode=20396...  49,900   \n",
       "4   http://item.gmarket.co.kr/Item?goodscode=97241...   6,900   \n",
       "5   http://item.gmarket.co.kr/Item?goodscode=24572...  12,000   \n",
       "6   http://item.gmarket.co.kr/Item?goodscode=25196...  25,030   \n",
       "7   http://item.gmarket.co.kr/Item?goodscode=24188...  16,830   \n",
       "8   http://item.gmarket.co.kr/Item?goodscode=16359...   9,900   \n",
       "9   http://item.gmarket.co.kr/Item?goodscode=20361...  10,000   \n",
       "10  http://item.gmarket.co.kr/Item?goodscode=23678...  17,900   \n",
       "11  http://item.gmarket.co.kr/Item?goodscode=23495...  71,000   \n",
       "12  http://item.gmarket.co.kr/Item?goodscode=25149...   7,900   \n",
       "13  http://item.gmarket.co.kr/Item?goodscode=22664...   3,900   \n",
       "14  http://item.gmarket.co.kr/Item?goodscode=18059...  99,450   \n",
       "15  http://item.gmarket.co.kr/Item?goodscode=22464...  19,360   \n",
       "16  http://item.gmarket.co.kr/Item?goodscode=21674...  72,000   \n",
       "17  http://item.gmarket.co.kr/Item?goodscode=15870...  15,900   \n",
       "18  http://item.gmarket.co.kr/Item?goodscode=21414...  11,500   \n",
       "19  http://item.gmarket.co.kr/Item?goodscode=25204...  28,800   \n",
       "\n",
       "                                                title  \n",
       "0                 10%할인+사은품_책속에서 여름나기 인기도서 260종_무료배송   \n",
       "1                     풀문 여름 시즌오프 버킷햇/레그워머/양말/왕리본/집게핀   \n",
       "2                        무료반품 2+1 균일가 덧신양말남성여성발목중목학생   \n",
       "3       1+1 2개 무선 선풍기 탁상용 미니 휴대용 캠핑용 벽걸이 사무실 선물용 가정용   \n",
       "4                    22%쿠폰/1+1 2박스외/무료반품/여성팬티/노라인/위생   \n",
       "5                             레고 닌자고 브릭마스터 외 6종 선택구매   \n",
       "6                                 브라운 면도기 세정액 CCR5+1   \n",
       "7   (현대Hmall) 오늘출발  젤리스트로우 투게더팩 1254g X 2팩(총 130개 ...  \n",
       "8                        아삭아삭 미니 오이 20개 /2개주문시 50개발송   \n",
       "9                        무료반품 15% 할인쿠폰 마르조 오나라 단하루특가   \n",
       "10                  군산 반건조 서대 박대구이 특대 5미 2개(쿠폰15940)   \n",
       "11                           별똥별_NEW 야물야물 그림책 (전20권)   \n",
       "12                   DCOVERS/디커버스/반팔티/티셔츠/여성/남자/빅사이즈   \n",
       "13                  3900원 균일가 시즌오프 블라우스/티셔츠/원피스/팬츠 外   \n",
       "14                    신일   화이트   에어서큘레이터(SIF-FA800B)   \n",
       "15                     서울우유 클릭유 커피 200ml x 24입 (1박스)   \n",
       "16                      닌자 프로페셔널 초퍼 믹서기 블렌더 NJ1001KR   \n",
       "17                                    청정우 양지 300gX3팩   \n",
       "18              붕어빵 아기물티슈 썸머에디션 핫한 고평량 70매 10팩 70gsm   \n",
       "19             (롯데백화점)남여공용 디스럽터 테이피 테잎 _ FS1HTB1091X   "
      ]
     },
     "execution_count": 19,
     "metadata": {},
     "output_type": "execute_result"
    }
   ],
   "source": [
    "pd.read_csv(\"gmarket/items.csv\")"
   ]
  },
  {
   "cell_type": "code",
   "execution_count": null,
   "id": "13050f43-e1aa-44a7-935c-443b0f006d31",
   "metadata": {},
   "outputs": [],
   "source": []
  }
 ],
 "metadata": {
  "kernelspec": {
   "display_name": "Python 3",
   "language": "python",
   "name": "python3"
  },
  "language_info": {
   "codemirror_mode": {
    "name": "ipython",
    "version": 3
   },
   "file_extension": ".py",
   "mimetype": "text/x-python",
   "name": "python",
   "nbconvert_exporter": "python",
   "pygments_lexer": "ipython3",
   "version": "3.8.8"
  }
 },
 "nbformat": 4,
 "nbformat_minor": 5
}
