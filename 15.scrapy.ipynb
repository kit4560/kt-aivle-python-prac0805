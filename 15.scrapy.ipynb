{
 "cells": [
  {
   "cell_type": "markdown",
   "id": "54faec60-14ab-4f0a-a64e-2f09e888f9d9",
   "metadata": {},
   "source": [
    "### scrapy"
   ]
  },
  {
   "cell_type": "code",
   "execution_count": 4,
   "id": "130d1602-e45a-4464-9ddd-8f7b42f184bf",
   "metadata": {},
   "outputs": [],
   "source": [
    "import scrapy\n",
    "import requests\n",
    "from scrapy.http import TextResponse"
   ]
  },
  {
   "cell_type": "markdown",
   "id": "da978671-2122-4ca6-9a5f-95b56f93c831",
   "metadata": {},
   "source": [
    "- gmarket best 200데이터 수집"
   ]
  },
  {
   "cell_type": "code",
   "execution_count": null,
   "id": "f7e300b4-b075-4ba3-aaf7-9e797b93a191",
   "metadata": {},
   "outputs": [],
   "source": [
    "# 1. scrapy 프로젝트 생성"
   ]
  },
  {
   "cell_type": "code",
   "execution_count": 1,
   "id": "cfbd7453-cd29-4b56-a9c6-6265785d42d0",
   "metadata": {},
   "outputs": [
    {
     "name": "stdout",
     "output_type": "stream",
     "text": [
      "New Scrapy project 'gmarket', using template directory 'c:\\users\\user\\anaconda3\\lib\\site-packages\\scrapy\\templates\\project', created in:\n",
      "    C:\\Users\\User\\day1-20220803T002955Z-001\\code\\gmarket\n",
      "\n",
      "You can start your first spider with:\n",
      "    cd gmarket\n",
      "    scrapy genspider example example.com\n"
     ]
    }
   ],
   "source": [
    "!scrapy startproject gmarket"
   ]
  },
  {
   "cell_type": "code",
   "execution_count": 2,
   "id": "0e06e8fe-e713-48b1-b983-a84abb8d4e37",
   "metadata": {},
   "outputs": [
    {
     "name": "stdout",
     "output_type": "stream",
     "text": [
      "폴더 PATH의 목록입니다.\n",
      "볼륨 일련 번호가 00000005 7C6C:FC35입니다.\n",
      "C:\\USERS\\USER\\DAY1-20220803T002955Z-001\\CODE\\GMARKET\n",
      "│  scrapy.cfg\n",
      "│  \n",
      "└─gmarket\n",
      "    │  items.py\n",
      "    │  middlewares.py\n",
      "    │  pipelines.py\n",
      "    │  settings.py\n",
      "    │  __init__.py\n",
      "    │  \n",
      "    └─spiders\n",
      "            __init__.py\n",
      "            \n"
     ]
    }
   ],
   "source": [
    "!tree gmarket /f"
   ]
  },
  {
   "cell_type": "raw",
   "id": "99415c30-fbfa-44cc-b719-3d145a9263f8",
   "metadata": {},
   "source": [
    "items.py 데이터구조 정의\n",
    "middlewares.py headers와 같은 정보 설정\n",
    "pipelines.py 코드실행을 정의\n",
    "settings.py 크롤링 설정(시간, 텀, robots.txt에 명시된 규칙들)'\n",
    "spiders(directory) 크롤링 절차를 정의"
   ]
  },
  {
   "cell_type": "code",
   "execution_count": 10,
   "id": "e4c84b84-3cf3-490e-90c6-beb3911059c9",
   "metadata": {},
   "outputs": [
    {
     "data": {
      "text/plain": [
       "['http://item.gmarket.co.kr/Item?goodscode=2519604129&ver=637953128102552122',\n",
       " 'http://item.gmarket.co.kr/Item?goodscode=2520466046&ver=637953128102552122']"
      ]
     },
     "execution_count": 10,
     "metadata": {},
     "output_type": "execute_result"
    }
   ],
   "source": [
    "# 2. xpath 찾기\n",
    "url = 'http://corners.gmarket.co.kr/Bestsellers'\n",
    "request = requests.get(url)\n",
    "response = TextResponse(request.url, body=request.text, encoding='utf-8')\n",
    "\n",
    "# links = response.xpath('//*[@id=\"gBestWrap\"]/div/div[3]/div/ul/li[1]/div[1]/a')\n",
    "links = response.xpath('//*[@id=\"gBestWrap\"]/div/div[3]/div/ul/li/a/@href').extract()\n",
    "print(links[:2])"
   ]
  },
  {
   "cell_type": "code",
   "execution_count": 11,
   "id": "453c5d8c-e848-4a49-bb5c-5144d9dfe6bc",
   "metadata": {},
   "outputs": [
    {
     "name": "stdout",
     "output_type": "stream",
     "text": [
      "브라운 면도기 세정액 CCR5+1  25,030\n"
     ]
    }
   ],
   "source": [
    "link = links[0]\n",
    "request = requests.get(link)\n",
    "response = TextResponse(request.url, body=request.text, encoding='utf-8')\n",
    "\n",
    "title = response.xpath('//*[@id=\"itemcase_basic\"]/div/h1/text()')[0].extract()\n",
    "price = response.xpath('//*[@id=\"itemcase_basic\"]/div/p/span/strong/text()')[0].extract()\n",
    "\n",
    "print(title, price)"
   ]
  },
  {
   "cell_type": "code",
   "execution_count": null,
   "id": "6106a4f4-c1fa-4f13-a83e-e046b7c3d5b2",
   "metadata": {},
   "outputs": [],
   "source": [
    "# 3. items.py 코드 작성 | model(데이터 구조) <-- 수집할 데이터의 칼럼 정의"
   ]
  },
  {
   "cell_type": "code",
   "execution_count": 12,
   "id": "bd34f1cd-ab4a-4173-960a-278f0453c42e",
   "metadata": {},
   "outputs": [
    {
     "name": "stdout",
     "output_type": "stream",
     "text": [
      "Overwriting gmarket/gmarket/items.py\n"
     ]
    }
   ],
   "source": [
    "%%writefile gmarket/gmarket/items.py\n",
    "import scrapy\n",
    "\n",
    "class GmarketItem(scrapy.Item:\n",
    "    title = scrapy.Field()\n",
    "    price = scrapy.Field()\n",
    "    link = scrapy.Field()"
   ]
  },
  {
   "cell_type": "code",
   "execution_count": null,
   "id": "99451566-d4db-4049-a01d-f79756c82dbc",
   "metadata": {},
   "outputs": [],
   "source": [
    "# 4. spider.py 코드 작성 | crawling 절차 정의"
   ]
  },
  {
   "cell_type": "code",
   "execution_count": 15,
   "id": "6d53be46-0171-407b-b4f4-6ddb2d83504d",
   "metadata": {},
   "outputs": [
    {
     "name": "stdout",
     "output_type": "stream",
     "text": [
      "Overwriting gmarket/gmarket/spiders/spider.py\n"
     ]
    }
   ],
   "source": [
    "%%writefile gmarket/gmarket/spiders/spider.py\n",
    "import scrapy\n",
    "from gmarket.items import GmarketItem\n",
    "\n",
    "class GMSpider(scrapy.Spider):\n",
    "    name = \"GMB\"\n",
    "    allow_domain = [\"gmarket.co.kr\"]\n",
    "    start_urls = [\"http://corners.gmarket.co.kr/Bestsellers\"]\n",
    "    \n",
    "    def parse(self, response):\n",
    "        links = response.xpath('//*[@id=\"gBestWrap\"]/div/div[3]/div/ul/li/a/@href').extract()\n",
    "        for link in links[:20]:\n",
    "            yield scrapy.Request(link, callback=self.parse_content)\n",
    "    \n",
    "    def parse_content(self, response):\n",
    "        item = GmarketItem()\n",
    "        item[\"title\"] = response.xpath('//*[@id=\"itemcase_basic\"]/div[1]/h1/text()')[0].extract()\n",
    "        item[\"price\"] = response.xpath('//*[@id=\"itemcase_basic\"]/div[1]/p/span/strong/text()')[0].extract()\n",
    "        item[\"link\"] = response.url\n",
    "        yield item"
   ]
  },
  {
   "cell_type": "code",
   "execution_count": null,
   "id": "0e144f4b-6e92-490c-87cc-bf7b31b917b2",
   "metadata": {},
   "outputs": [],
   "source": [
    "# 5. scrapy 프로젝트 실행"
   ]
  },
  {
   "cell_type": "code",
   "execution_count": null,
   "id": "558eb94b-3b29-4643-98f3-acb1db639255",
   "metadata": {},
   "outputs": [],
   "source": [
    "# scrapy crawl GMB -o items.csv # 터미널에서 실행해야함"
   ]
  },
  {
   "cell_type": "code",
   "execution_count": 14,
   "id": "54837a7b-aa84-410f-95d0-74c33a30a1a7",
   "metadata": {},
   "outputs": [
    {
     "data": {
      "text/plain": [
       "'C:\\\\Users\\\\User\\\\day1-20220803T002955Z-001\\\\code'"
      ]
     },
     "execution_count": 14,
     "metadata": {},
     "output_type": "execute_result"
    }
   ],
   "source": [
    "%pwd"
   ]
  },
  {
   "cell_type": "code",
   "execution_count": 16,
   "id": "333b7242-549e-4876-a443-d3f4045caa18",
   "metadata": {},
   "outputs": [
    {
     "ename": "FileNotFoundError",
     "evalue": "[Errno 2] No such file or directory: 'gmarket/items.csv'",
     "output_type": "error",
     "traceback": [
      "\u001b[1;31m---------------------------------------------------------------------------\u001b[0m",
      "\u001b[1;31mFileNotFoundError\u001b[0m                         Traceback (most recent call last)",
      "\u001b[1;32m<ipython-input-16-208a700e511e>\u001b[0m in \u001b[0;36m<module>\u001b[1;34m\u001b[0m\n\u001b[1;32m----> 1\u001b[1;33m \u001b[0mpd\u001b[0m\u001b[1;33m.\u001b[0m\u001b[0mread_csv\u001b[0m\u001b[1;33m(\u001b[0m\u001b[1;34m\"gmarket/items.csv\"\u001b[0m\u001b[1;33m)\u001b[0m\u001b[1;33m\u001b[0m\u001b[1;33m\u001b[0m\u001b[0m\n\u001b[0m",
      "\u001b[1;32m~\\anaconda3\\lib\\site-packages\\pandas\\util\\_decorators.py\u001b[0m in \u001b[0;36mwrapper\u001b[1;34m(*args, **kwargs)\u001b[0m\n\u001b[0;32m    309\u001b[0m                     \u001b[0mstacklevel\u001b[0m\u001b[1;33m=\u001b[0m\u001b[0mstacklevel\u001b[0m\u001b[1;33m,\u001b[0m\u001b[1;33m\u001b[0m\u001b[1;33m\u001b[0m\u001b[0m\n\u001b[0;32m    310\u001b[0m                 )\n\u001b[1;32m--> 311\u001b[1;33m             \u001b[1;32mreturn\u001b[0m \u001b[0mfunc\u001b[0m\u001b[1;33m(\u001b[0m\u001b[1;33m*\u001b[0m\u001b[0margs\u001b[0m\u001b[1;33m,\u001b[0m \u001b[1;33m**\u001b[0m\u001b[0mkwargs\u001b[0m\u001b[1;33m)\u001b[0m\u001b[1;33m\u001b[0m\u001b[1;33m\u001b[0m\u001b[0m\n\u001b[0m\u001b[0;32m    312\u001b[0m \u001b[1;33m\u001b[0m\u001b[0m\n\u001b[0;32m    313\u001b[0m         \u001b[1;32mreturn\u001b[0m \u001b[0mwrapper\u001b[0m\u001b[1;33m\u001b[0m\u001b[1;33m\u001b[0m\u001b[0m\n",
      "\u001b[1;32m~\\anaconda3\\lib\\site-packages\\pandas\\io\\parsers\\readers.py\u001b[0m in \u001b[0;36mread_csv\u001b[1;34m(filepath_or_buffer, sep, delimiter, header, names, index_col, usecols, squeeze, prefix, mangle_dupe_cols, dtype, engine, converters, true_values, false_values, skipinitialspace, skiprows, skipfooter, nrows, na_values, keep_default_na, na_filter, verbose, skip_blank_lines, parse_dates, infer_datetime_format, keep_date_col, date_parser, dayfirst, cache_dates, iterator, chunksize, compression, thousands, decimal, lineterminator, quotechar, quoting, doublequote, escapechar, comment, encoding, encoding_errors, dialect, error_bad_lines, warn_bad_lines, on_bad_lines, delim_whitespace, low_memory, memory_map, float_precision, storage_options)\u001b[0m\n\u001b[0;32m    678\u001b[0m     \u001b[0mkwds\u001b[0m\u001b[1;33m.\u001b[0m\u001b[0mupdate\u001b[0m\u001b[1;33m(\u001b[0m\u001b[0mkwds_defaults\u001b[0m\u001b[1;33m)\u001b[0m\u001b[1;33m\u001b[0m\u001b[1;33m\u001b[0m\u001b[0m\n\u001b[0;32m    679\u001b[0m \u001b[1;33m\u001b[0m\u001b[0m\n\u001b[1;32m--> 680\u001b[1;33m     \u001b[1;32mreturn\u001b[0m \u001b[0m_read\u001b[0m\u001b[1;33m(\u001b[0m\u001b[0mfilepath_or_buffer\u001b[0m\u001b[1;33m,\u001b[0m \u001b[0mkwds\u001b[0m\u001b[1;33m)\u001b[0m\u001b[1;33m\u001b[0m\u001b[1;33m\u001b[0m\u001b[0m\n\u001b[0m\u001b[0;32m    681\u001b[0m \u001b[1;33m\u001b[0m\u001b[0m\n\u001b[0;32m    682\u001b[0m \u001b[1;33m\u001b[0m\u001b[0m\n",
      "\u001b[1;32m~\\anaconda3\\lib\\site-packages\\pandas\\io\\parsers\\readers.py\u001b[0m in \u001b[0;36m_read\u001b[1;34m(filepath_or_buffer, kwds)\u001b[0m\n\u001b[0;32m    573\u001b[0m \u001b[1;33m\u001b[0m\u001b[0m\n\u001b[0;32m    574\u001b[0m     \u001b[1;31m# Create the parser.\u001b[0m\u001b[1;33m\u001b[0m\u001b[1;33m\u001b[0m\u001b[1;33m\u001b[0m\u001b[0m\n\u001b[1;32m--> 575\u001b[1;33m     \u001b[0mparser\u001b[0m \u001b[1;33m=\u001b[0m \u001b[0mTextFileReader\u001b[0m\u001b[1;33m(\u001b[0m\u001b[0mfilepath_or_buffer\u001b[0m\u001b[1;33m,\u001b[0m \u001b[1;33m**\u001b[0m\u001b[0mkwds\u001b[0m\u001b[1;33m)\u001b[0m\u001b[1;33m\u001b[0m\u001b[1;33m\u001b[0m\u001b[0m\n\u001b[0m\u001b[0;32m    576\u001b[0m \u001b[1;33m\u001b[0m\u001b[0m\n\u001b[0;32m    577\u001b[0m     \u001b[1;32mif\u001b[0m \u001b[0mchunksize\u001b[0m \u001b[1;32mor\u001b[0m \u001b[0miterator\u001b[0m\u001b[1;33m:\u001b[0m\u001b[1;33m\u001b[0m\u001b[1;33m\u001b[0m\u001b[0m\n",
      "\u001b[1;32m~\\anaconda3\\lib\\site-packages\\pandas\\io\\parsers\\readers.py\u001b[0m in \u001b[0;36m__init__\u001b[1;34m(self, f, engine, **kwds)\u001b[0m\n\u001b[0;32m    932\u001b[0m \u001b[1;33m\u001b[0m\u001b[0m\n\u001b[0;32m    933\u001b[0m         \u001b[0mself\u001b[0m\u001b[1;33m.\u001b[0m\u001b[0mhandles\u001b[0m\u001b[1;33m:\u001b[0m \u001b[0mIOHandles\u001b[0m \u001b[1;33m|\u001b[0m \u001b[1;32mNone\u001b[0m \u001b[1;33m=\u001b[0m \u001b[1;32mNone\u001b[0m\u001b[1;33m\u001b[0m\u001b[1;33m\u001b[0m\u001b[0m\n\u001b[1;32m--> 934\u001b[1;33m         \u001b[0mself\u001b[0m\u001b[1;33m.\u001b[0m\u001b[0m_engine\u001b[0m \u001b[1;33m=\u001b[0m \u001b[0mself\u001b[0m\u001b[1;33m.\u001b[0m\u001b[0m_make_engine\u001b[0m\u001b[1;33m(\u001b[0m\u001b[0mf\u001b[0m\u001b[1;33m,\u001b[0m \u001b[0mself\u001b[0m\u001b[1;33m.\u001b[0m\u001b[0mengine\u001b[0m\u001b[1;33m)\u001b[0m\u001b[1;33m\u001b[0m\u001b[1;33m\u001b[0m\u001b[0m\n\u001b[0m\u001b[0;32m    935\u001b[0m \u001b[1;33m\u001b[0m\u001b[0m\n\u001b[0;32m    936\u001b[0m     \u001b[1;32mdef\u001b[0m \u001b[0mclose\u001b[0m\u001b[1;33m(\u001b[0m\u001b[0mself\u001b[0m\u001b[1;33m)\u001b[0m\u001b[1;33m:\u001b[0m\u001b[1;33m\u001b[0m\u001b[1;33m\u001b[0m\u001b[0m\n",
      "\u001b[1;32m~\\anaconda3\\lib\\site-packages\\pandas\\io\\parsers\\readers.py\u001b[0m in \u001b[0;36m_make_engine\u001b[1;34m(self, f, engine)\u001b[0m\n\u001b[0;32m   1216\u001b[0m             \u001b[1;31m# \"Union[str, PathLike[str], ReadCsvBuffer[bytes], ReadCsvBuffer[str]]\"\u001b[0m\u001b[1;33m\u001b[0m\u001b[1;33m\u001b[0m\u001b[1;33m\u001b[0m\u001b[0m\n\u001b[0;32m   1217\u001b[0m             \u001b[1;31m# , \"str\", \"bool\", \"Any\", \"Any\", \"Any\", \"Any\", \"Any\"\u001b[0m\u001b[1;33m\u001b[0m\u001b[1;33m\u001b[0m\u001b[1;33m\u001b[0m\u001b[0m\n\u001b[1;32m-> 1218\u001b[1;33m             self.handles = get_handle(  # type: ignore[call-overload]\n\u001b[0m\u001b[0;32m   1219\u001b[0m                 \u001b[0mf\u001b[0m\u001b[1;33m,\u001b[0m\u001b[1;33m\u001b[0m\u001b[1;33m\u001b[0m\u001b[0m\n\u001b[0;32m   1220\u001b[0m                 \u001b[0mmode\u001b[0m\u001b[1;33m,\u001b[0m\u001b[1;33m\u001b[0m\u001b[1;33m\u001b[0m\u001b[0m\n",
      "\u001b[1;32m~\\anaconda3\\lib\\site-packages\\pandas\\io\\common.py\u001b[0m in \u001b[0;36mget_handle\u001b[1;34m(path_or_buf, mode, encoding, compression, memory_map, is_text, errors, storage_options)\u001b[0m\n\u001b[0;32m    784\u001b[0m         \u001b[1;32mif\u001b[0m \u001b[0mioargs\u001b[0m\u001b[1;33m.\u001b[0m\u001b[0mencoding\u001b[0m \u001b[1;32mand\u001b[0m \u001b[1;34m\"b\"\u001b[0m \u001b[1;32mnot\u001b[0m \u001b[1;32min\u001b[0m \u001b[0mioargs\u001b[0m\u001b[1;33m.\u001b[0m\u001b[0mmode\u001b[0m\u001b[1;33m:\u001b[0m\u001b[1;33m\u001b[0m\u001b[1;33m\u001b[0m\u001b[0m\n\u001b[0;32m    785\u001b[0m             \u001b[1;31m# Encoding\u001b[0m\u001b[1;33m\u001b[0m\u001b[1;33m\u001b[0m\u001b[1;33m\u001b[0m\u001b[0m\n\u001b[1;32m--> 786\u001b[1;33m             handle = open(\n\u001b[0m\u001b[0;32m    787\u001b[0m                 \u001b[0mhandle\u001b[0m\u001b[1;33m,\u001b[0m\u001b[1;33m\u001b[0m\u001b[1;33m\u001b[0m\u001b[0m\n\u001b[0;32m    788\u001b[0m                 \u001b[0mioargs\u001b[0m\u001b[1;33m.\u001b[0m\u001b[0mmode\u001b[0m\u001b[1;33m,\u001b[0m\u001b[1;33m\u001b[0m\u001b[1;33m\u001b[0m\u001b[0m\n",
      "\u001b[1;31mFileNotFoundError\u001b[0m: [Errno 2] No such file or directory: 'gmarket/items.csv'"
     ]
    }
   ],
   "source": [
    "pd.read_csv(\"gmarket/items.csv\")"
   ]
  },
  {
   "cell_type": "code",
   "execution_count": null,
   "id": "13050f43-e1aa-44a7-935c-443b0f006d31",
   "metadata": {},
   "outputs": [],
   "source": []
  }
 ],
 "metadata": {
  "kernelspec": {
   "display_name": "Python 3",
   "language": "python",
   "name": "python3"
  },
  "language_info": {
   "codemirror_mode": {
    "name": "ipython",
    "version": 3
   },
   "file_extension": ".py",
   "mimetype": "text/x-python",
   "name": "python",
   "nbconvert_exporter": "python",
   "pygments_lexer": "ipython3",
   "version": "3.8.8"
  }
 },
 "nbformat": 4,
 "nbformat_minor": 5
}
